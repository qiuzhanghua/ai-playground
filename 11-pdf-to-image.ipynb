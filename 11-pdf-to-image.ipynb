{
 "cells": [
  {
   "cell_type": "markdown",
   "metadata": {},
   "source": [
    " ubuntu 22.0.4\n",
    "\n",
    " doas apt install libfreetype6 libfreetype6-dev\n",
    "\n",
    " doas apt install fontconfig \n",
    "\n",
    " doas apt install fontconfig-config\n",
    "\n",
    " doas apt install libfontconfig1-dev\n",
    "\n",
    " doas apt install libnss3-dev\n",
    "\n",
    " doas apt install libgpgmepp-dev\n",
    "\n",
    " doas apt install libtiff5-dev\n",
    "\n",
    " doas apt install libqt6core5compat6-dev\n",
    "\n",
    " doas apt install libboost-dev\n",
    "\n",
    " doas apt install liblcms2-dev\n",
    "\n",
    " cd /opt\n",
    "\n",
    " wget https://www.gnupg.org/ftp/gcrypt/libgpg-error/libgpg-error-1.51.tar.gz\n",
    "\n",
    " ...\n",
    "\n",
    " wget https://github.com/gpg/gpgme/archive/refs/tags/gpgme-1.24.1.tar.gz\n",
    "\n",
    " tar xf gpgme-1.24.1.tar.gz\n",
    "\n",
    " cd gpgme-gpgme-1.24.1\n",
    "\n",
    " doas apt install libassuan-dev\n",
    "\n",
    " doas apt install automake\n",
    "\n",
    " doas apt install libgpg-error-dev\n",
    "\n",
    " bash autogen.sh\n",
    "\n",
    " cd /opt\n",
    "\n",
    " wget https://poppler.freedesktop.org/poppler-24.12.0.tar.xz\n",
    "\n",
    " tar xf poppler-24.12.0.tar.xz\n",
    "\n",
    " git clone git://git.freedesktop.org/git/poppler/test\n",
    "\n",
    " cd poppler-24.12.0\n",
    "\n",
    " mkdir build\n",
    "\n",
    " cd build\n",
    " \n",
    " cmake ..\n",
    "\n",
    " install poppler is not easy."
   ]
  },
  {
   "cell_type": "code",
   "execution_count": 9,
   "metadata": {},
   "outputs": [],
   "source": [
    "import pathlib\n",
    "from pdf2image import convert_from_path"
   ]
  },
  {
   "cell_type": "code",
   "execution_count": 10,
   "metadata": {},
   "outputs": [],
   "source": [
    "temp_dir = pathlib.Path(\"tmp\")\n",
    "temp_dir.mkdir(exist_ok=True)"
   ]
  },
  {
   "cell_type": "code",
   "execution_count": 11,
   "metadata": {},
   "outputs": [
    {
     "data": {
      "text/plain": [
       "229"
      ]
     },
     "execution_count": 11,
     "metadata": {},
     "output_type": "execute_result"
    }
   ],
   "source": [
    "current_dir = pathlib.Path.cwd()\n",
    "file = current_dir / \"GNU make.pdf\"\n",
    "images = convert_from_path(\n",
    "    file, output_folder=\"tmp\", fmt=\"png\", output_file=\"gnu-make-\"\n",
    ")\n",
    "len(images)"
   ]
  }
 ],
 "metadata": {
  "kernelspec": {
   "display_name": ".venv",
   "language": "python",
   "name": "python3"
  },
  "language_info": {
   "codemirror_mode": {
    "name": "ipython",
    "version": 3
   },
   "file_extension": ".py",
   "mimetype": "text/x-python",
   "name": "python",
   "nbconvert_exporter": "python",
   "pygments_lexer": "ipython3",
   "version": "3.11.11"
  }
 },
 "nbformat": 4,
 "nbformat_minor": 2
}
