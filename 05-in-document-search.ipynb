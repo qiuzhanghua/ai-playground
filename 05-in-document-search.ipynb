{
 "cells": [
  {
   "cell_type": "code",
   "execution_count": 35,
   "metadata": {},
   "outputs": [],
   "source": [
    "import torch\n",
    "\n",
    "device = \"cuda\" if torch.cuda.is_available() else \"mps\" if torch.backends.mps.is_available() else \"cpu\""
   ]
  },
  {
   "cell_type": "code",
   "execution_count": 36,
   "metadata": {},
   "outputs": [],
   "source": [
    "from sentence_transformers import CrossEncoder\n",
    "import nltk\n",
    "from nltk import sent_tokenize\n",
    "import time"
   ]
  },
  {
   "cell_type": "code",
   "execution_count": null,
   "metadata": {},
   "outputs": [],
   "source": [
    "# nltk.download()"
   ]
  },
  {
   "cell_type": "code",
   "execution_count": 38,
   "metadata": {},
   "outputs": [],
   "source": [
    "document = \"\"\"Europe is a continent located entirely in the Northern Hemisphere and mostly in the Eastern Hemisphere. It comprises the westernmost part of Eurasia and is bordered by the Arctic Ocean to the north, the Atlantic Ocean to the west, the Mediterranean Sea to the south, and Asia to the east. Europe is commonly considered to be separated from Asia by the watershed of the Ural Mountains, the Ural River, the Caspian Sea, the Greater Caucasus, the Black Sea, and the waterways of the Turkish Straits. Although some of this border is over land, Europe is generally accorded the status of a full continent because of its great physical size and the weight of history and tradition.\n",
    "\n",
    "Europe covers about 10,180,000 square kilometres (3,930,000 sq mi), or 2% of the Earth's surface (6.8% of land area), making it the second smallest continent. Politically, Europe is divided into about fifty sovereign states, of which Russia is the largest and most populous, spanning 39% of the continent and comprising 15% of its population. Europe had a total population of about 741 million (about 11% of the world population) as of 2018. The European climate is largely affected by warm Atlantic currents that temper winters and summers on much of the continent, even at latitudes along which the climate in Asia and North America is severe. Further from the sea, seasonal differences are more noticeable than close to the coast.\n",
    "\n",
    "European culture is the root of Western civilization, which traces its lineage back to ancient Greece and ancient Rome. The fall of the Western Roman Empire in 476 AD and the subsequent Migration Period marked the end of Europe's ancient history and the beginning of the Middle Ages. Renaissance humanism, exploration, art and science led to the modern era. Since the Age of Discovery, started by Portugal and Spain, Europe played a predominant role in global affairs. Between the 16th and 20th centuries, European powers colonized at various times the Americas, almost all of Africa and Oceania, and the majority of Asia.\n",
    "\n",
    "The Age of Enlightenment, the subsequent French Revolution and the Napoleonic Wars shaped the continent culturally, politically and economically from the end of the 17th century until the first half of the 19th century. The Industrial Revolution, which began in Great Britain at the end of the 18th century, gave rise to radical economic, cultural and social change in Western Europe and eventually the wider world. Both world wars took place for the most part in Europe, contributing to a decline in Western European dominance in world affairs by the mid-20th century as the Soviet Union and the United States took prominence. During the Cold War, Europe was divided along the Iron Curtain between NATO in the West and the Warsaw Pact in the East, until the revolutions of 1989 and fall of the Berlin Wall.\n",
    "\n",
    "In 1949, the Council of Europe was founded with the idea of unifying Europe to achieve common goals. Further European integration by some states led to the formation of the European Union (EU), a separate political entity that lies between a confederation and a federation. The EU originated in Western Europe but has been expanding eastward since the fall of the Soviet Union in 1991. The currency of most countries of the European Union, the euro, is the most commonly used among Europeans; and the EU's Schengen Area abolishes border and immigration controls between most of its member states. There exists a political movement favoring the evolution of the European Union into a single federation encompassing much of the continent.\n",
    "\n",
    "In classical Greek mythology, Europa (Ancient Greek: Εὐρώπη, Eurṓpē) was a Phoenician princess. One view is that her name derives from the ancient Greek elements εὐρύς (eurús), \"wide, broad\" and ὤψ (ōps, gen. ὠπός, ōpós) \"eye, face, countenance\", hence their composite Eurṓpē would mean \"wide-gazing\" or \"broad of aspect\". Broad has been an epithet of Earth herself in the reconstructed Proto-Indo-European religion and the poetry devoted to it. An alternative view is that of R.S.P. Beekes who has argued in favor of a Pre-Indo-European origin for the name, explaining that a derivation from ancient Greek eurus would yield a different toponym than Europa. Beekes has located toponyms related to that of Europa in the territory of ancient Greece and localities like that of Europos in ancient Macedonia.\n",
    "\n",
    "There have been attempts to connect Eurṓpē to a Semitic term for \"west\", this being either Akkadian erebu meaning \"to go down, set\" (said of the sun) or Phoenician 'ereb \"evening, west\", which is at the origin of Arabic Maghreb and Hebrew ma'arav. Michael A. Barry finds the mention of the word Ereb on an Assyrian stele with the meaning of \"night, [the country of] sunset\", in opposition to Asu \"[the country of] sunrise\", i.e. Asia. The same naming motive according to \"cartographic convention\" appears in Greek Ἀνατολή (Anatolḗ \"[sun] rise\", \"east\", hence Anatolia). Martin Litchfield West stated that \"phonologically, the match between Europa's name and any form of the Semitic word is very poor\", while Beekes considers a connection to Semitic languages improbable. Next to these hypotheses there is also a Proto-Indo-European root *h1regʷos, meaning \"darkness\", which also produced Greek Erebus.\n",
    "\n",
    "Most major world languages use words derived from Eurṓpē or Europa to refer to the continent. Chinese, for example, uses the word Ōuzhōu (歐洲/欧洲), which is an abbreviation of the transliterated name Ōuluóbā zhōu (歐羅巴洲) (zhōu means \"continent\"); a similar Chinese-derived term Ōshū (欧州) is also sometimes used in Japanese such as in the Japanese name of the European Union, Ōshū Rengō (欧州連合), despite the katakana Yōroppa (ヨーロッパ) being more commonly used. In some Turkic languages, the originally Persian name Frangistan (\"land of the Franks\") is used casually in referring to much of Europe, besides official names such as Avrupa or Evropa.\"\"\"\n"
   ]
  },
  {
   "cell_type": "code",
   "execution_count": 39,
   "metadata": {},
   "outputs": [],
   "source": [
    "## We split this article into paragraphs and then every paragraph into sentences\n",
    "paragraphs = []\n",
    "for paragraph in document.replace(\"\\r\\n\", \"\\n\").split(\"\\n\\n\"):\n",
    "    if len(paragraph.strip()) > 0:\n",
    "        paragraphs.append(sent_tokenize(paragraph.strip()))"
   ]
  },
  {
   "cell_type": "code",
   "execution_count": null,
   "metadata": {},
   "outputs": [],
   "source": [
    "window_size = 3\n",
    "passages = []\n",
    "for paragraph in paragraphs:\n",
    "    for start_idx in range(0, len(paragraph), window_size):\n",
    "        end_idx = min(start_idx + window_size, len(paragraph))\n",
    "        passages.append(\" \".join(paragraph[start_idx:end_idx]))\n",
    "\n",
    "\n",
    "print(\"Paragraphs: \", len(paragraphs))\n",
    "print(\"Sentences: \", sum([len(p) for p in paragraphs]))\n",
    "print(\"Passages: \", len(passages))"
   ]
  },
  {
   "cell_type": "code",
   "execution_count": 41,
   "metadata": {},
   "outputs": [],
   "source": [
    "## Load our cross-encoder. Use fast tokenizer to speed up the tokenization\n",
    "model = CrossEncoder(\"cross-encoder/ms-marco-TinyBERT-L-2\")"
   ]
  },
  {
   "cell_type": "code",
   "execution_count": 42,
   "metadata": {},
   "outputs": [],
   "source": [
    "## Some queries we want to search for in the document\n",
    "queries = [\n",
    "    \"How large is Europe?\",\n",
    "    \"Is Europe a continent?\",\n",
    "    \"What is the currency in EU?\",\n",
    "    \"Fall Roman Empire when\",  # We can also search for key word queries\n",
    "    \"Is Europa in the south part of the globe?\",\n",
    "]  # Europe is miss-spelled & the matching sentences does not mention any of the content words"
   ]
  },
  {
   "cell_type": "code",
   "execution_count": null,
   "metadata": {},
   "outputs": [],
   "source": [
    "# Search in a loop for the individual queries\n",
    "for query in queries:\n",
    "    start_time = time.time()\n",
    "\n",
    "    # Concatenate the query and all passages and predict the scores for the pairs [query, passage]\n",
    "    model_inputs = [[query, passage] for passage in passages]\n",
    "    scores = model.predict(model_inputs)\n",
    "\n",
    "    # Sort the scores in decreasing order\n",
    "    results = [{\"input\": inp, \"score\": score} for inp, score in zip(model_inputs, scores)]\n",
    "    results = sorted(results, key=lambda x: x[\"score\"], reverse=True)\n",
    "\n",
    "    print(\"Query:\", query)\n",
    "    print(f\"Search took {time.time() - start_time:.2f} seconds\")\n",
    "    for hit in results[0:5]:\n",
    "        print(\"Score: {:.2f}\".format(hit[\"score\"]), \"\\t\", hit[\"input\"][1])\n",
    "\n",
    "    print(\"==========\")"
   ]
  }
 ],
 "metadata": {
  "kernelspec": {
   "display_name": "all",
   "language": "python",
   "name": "python3"
  },
  "language_info": {
   "codemirror_mode": {
    "name": "ipython",
    "version": 3
   },
   "file_extension": ".py",
   "mimetype": "text/x-python",
   "name": "python",
   "nbconvert_exporter": "python",
   "pygments_lexer": "ipython3",
   "version": "3.11.11"
  }
 },
 "nbformat": 4,
 "nbformat_minor": 2
}
