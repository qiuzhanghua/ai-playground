{
 "cells": [
  {
   "cell_type": "code",
   "execution_count": 31,
   "metadata": {},
   "outputs": [],
   "source": [
    "# -*- coding: utf-8 -*-\n",
    "from openai import OpenAI\n",
    "import base64"
   ]
  },
  {
   "cell_type": "code",
   "execution_count": 32,
   "metadata": {},
   "outputs": [],
   "source": [
    "def get_img_base64(path):\n",
    "    with open(path, \"rb\") as image_file:\n",
    "        image_base64 = base64.b64encode(image_file.read()).decode('utf-8')\n",
    "        return image_base64"
   ]
  },
  {
   "cell_type": "code",
   "execution_count": 33,
   "metadata": {},
   "outputs": [],
   "source": [
    "client = OpenAI(base_url=\"http://localhost:8001/v1\", api_key=\"un_used\")"
   ]
  },
  {
   "cell_type": "code",
   "execution_count": 34,
   "metadata": {},
   "outputs": [],
   "source": [
    "completion = client.chat.completions.create(\n",
    "    model=\"GLM-4v-9b\",\n",
    "    messages=[\n",
    "        {\n",
    "            \"role\": \"user\",\n",
    "            \"content\": \"Who are you and what do you do?\"\n",
    "        }\n",
    "    ],\n",
    "    max_tokens=60,\n",
    "    temperature=0.5,\n",
    "    top_p=1,\n",
    "    frequency_penalty=0,\n",
    "    presence_penalty=0,\n",
    "    stop=[\"\\n\"]\n",
    ")"
   ]
  },
  {
   "cell_type": "code",
   "execution_count": 35,
   "metadata": {},
   "outputs": [
    {
     "name": "stdout",
     "output_type": "stream",
     "text": [
      "I am an AI assistant named ChatGLM（智谱清言）, which is developed based on the language model trained by Zhipu AI in 2023. My job is to provide appropriate answers and support to users' questions and requests.\n"
     ]
    }
   ],
   "source": [
    "print(completion.choices[0].message.content)"
   ]
  },
  {
   "cell_type": "code",
   "execution_count": 36,
   "metadata": {},
   "outputs": [],
   "source": [
    "text_prompt = {\"type\": \"text\", \"text\":'''你是一种强大的计算机视觉与自然语言处理模型，能够从文档图片中提取并理解文本内容，按要求生成格式化的Markdown文本。\n",
    "\n",
    "任务要求：\n",
    "1. 从给定的文档图片中提取所有的文本信息，包括标题、段落、列表、表格等。\n",
    "2. 处理图片中的文本，使其格式化为Markdown格式，具体要求如下：\n",
    "   - **标题**：如果有多级标题，按照Markdown的标题格式（# 一级标题，## 二级标题，依此类推）。\n",
    "   - **段落**：将每段文字按段落分开，段落之间保持空行。\n",
    "   - **列表**：若文档中有无序列表或有序列表，按Markdown格式使用`-`或数字加点进行表示。\n",
    "   - **表格**：如果文档包含表格，将表格转化为Markdown表格格式，表头和表格内容用`|`分隔。\n",
    "   - **强调整齐**：确保文本对齐正确，不遗漏任何重要内容。\n",
    "   - **尊重原文**：使用原文种的内容，不要更改原文的结构。\n",
    "\n",
    "输出格式：\n",
    "- 生成一个完整的Markdown文档，按照文本内容的层级关系和格式进行排版。\n",
    "- 仅返回Markdown文本，避免任何额外的说明或解释。'''}"
   ]
  },
  {
   "cell_type": "code",
   "execution_count": 37,
   "metadata": {},
   "outputs": [],
   "source": [
    "text_prompt = {\"type\": \"text\", \"text\":'''You can extract text from document images and generate formatted Markdown text as required.\n",
    "\n",
    "Task requirements:\n",
    "               1. Extract all text information from the given document image, including titles, paragraphs, lists, tables, etc.\n",
    "               2. Process the text in the image to format it as Markdown, with the following specific requirements:\n",
    "                  - **Title**: If there are multiple titles, format them according to the Markdown title format (# Title, ## Subtitle, and so on).\n",
    "                  - **Paragraph**: Separate each paragraph of text, leaving a blank line between paragraphs.\n",
    "                  - **List**: If the document contains an unordered or ordered list, use `-` or a number followed by a period to represent it in Markdown format.\n",
    "                  - **Table**: If the document contains a table, convert the table to Markdown table format, separating the table header and table content with `|`.\n",
    "                  - **Emphasize alignment**: Ensure that the text is aligned correctly and that no important content is omitted.\n",
    "                  - **Respect the original text**: Use the content of the original text and do not change the structure of the original text.\n",
    "Output format:\n",
    "- Generate a complete Markdown document, formatted according to the hierarchy and format of the text content.\n",
    "- Return only the Markdown text, avoiding any additional explanations or interpretations.\n",
    "               '''}"
   ]
  },
  {
   "cell_type": "code",
   "execution_count": 38,
   "metadata": {},
   "outputs": [],
   "source": [
    "# 修改文档名字，按照要求生成文档图片的Markdown文本\n",
    "image_path = \"tmp/gnu-make-0001-100.png\"\n",
    "image_base64 = get_img_base64(image_path)\n",
    "# image_base64"
   ]
  },
  {
   "cell_type": "code",
   "execution_count": 39,
   "metadata": {},
   "outputs": [],
   "source": [
    "messages = [{\n",
    "                    \"role\": \"user\",\n",
    "                    \"content\": [\n",
    "                        text_prompt,\n",
    "                        {\n",
    "                            \"type\": \"image_url\",\n",
    "                            \"image_url\": {\n",
    "                                \"url\": f\"data:image/jpeg;base64,{image_base64}\",\n",
    "                            },\n",
    "                        },\n",
    "                    ]\n",
    "                }]"
   ]
  },
  {
   "cell_type": "code",
   "execution_count": 40,
   "metadata": {},
   "outputs": [],
   "source": [
    "completion = client.chat.completions.create(\n",
    "    model=\"glm-4v-9b\",\n",
    "    messages=messages,\n",
    "    max_tokens=6144,\n",
    "    temperature=0.7,\n",
    ")"
   ]
  },
  {
   "cell_type": "markdown",
   "metadata": {},
   "source": [
    "对于4090 16G，模型似乎退化到只能处理文字，不能处理图片\n",
    "\n",
    "apple mac m1x with 64G memory, OK!"
   ]
  },
  {
   "cell_type": "code",
   "execution_count": 41,
   "metadata": {},
   "outputs": [
    {
     "name": "stdout",
     "output_type": "stream",
     "text": [
      "```markdown\n",
      "# GNU make\n",
      "\n",
      "## 7.3 Conditionals that Test Flags\n",
      "\n",
      "You can write a conditional that tests make command flags such as `-t' by using the variable MAKEFLAGS together with the findstring function (see Section 8.2 [Functions for String Manipulation], page 88). To test for an empty value, use ifeq ($($(foo))),. For example,\n",
      "\n",
      "```makefile\n",
      "bar =\n",
      "foo = $(bar)\n",
      "ifdef foo\n",
      "frobozz = yes\n",
      "else\n",
      "frobozz = no\n",
      "endif\n",
      "```\n",
      "\n",
      "sets 'frobozz' to 'yes' while:\n",
      "\n",
      "```makefile\n",
      "foo =\n",
      "ifdef foo\n",
      "frobozz = yes\n",
      "else\n",
      "frobozz = no\n",
      "endif\n",
      "```\n",
      "\n",
      "sets 'frobozz' to 'no'.\n",
      "\n",
      "## ifdef variable-name\n",
      "\n",
      "If the variable variable-name has an empty value, the text-if-true is effective; otherwise, the text-if-false, if any, is effective. The rules for expansion and testing of variable-name are identical to the ifdef directive.\n",
      "\n",
      "Extra spaces are allowed and ignored at the beginning of the conditional line, but a tab is not allowed. (If the line begins with a tab, it will be considered part of a recipe for a rule.) Aside from this, extra spaces or tabs may be inserted with no effect anywhere except within the directive name or within an argument. A comment starting with '#' may appear at the end of the line.\n",
      "\n",
      "The other two directives that play a part in a conditional are else and endif. Each of these directives is written as one word, with no arguments. Extra spaces are allowed and ignored at the beginning of the line, and spaces or tabs at the end. A comment starting with '#' may appear at the end of the line.\n",
      "\n",
      "Conditionals affect which lines of the makefile make reads the lines of the text-if-true as part of the makefile; if the condition is false, make ignores those lines completely. It follows that syntactic units of the makefile, such as rules, may safely be split across the beginning or the end of the conditional.\n",
      "\n",
      "make evaluates conditionals when it reads a makefile. Consequently, you cannot use automatic variables in the tests of conditionals because they are not defined until recipes are run (see Section 10.5.3 [Automatic Variables], page 130).\n",
      "\n",
      "To prevent intolerable confusion, it is not permitted to start a conditional in one makefile and end it in another. However, you may write an include directive within a conditional, provided you do not attempt to terminate the conditional inside the included file.\n",
      "```\n"
     ]
    }
   ],
   "source": [
    "print(completion.choices[0].message.content)"
   ]
  },
  {
   "cell_type": "code",
   "execution_count": 42,
   "metadata": {},
   "outputs": [],
   "source": [
    "image_path = \"rule.png\"\n",
    "image_base64 = get_img_base64(image_path)"
   ]
  },
  {
   "cell_type": "code",
   "execution_count": 43,
   "metadata": {},
   "outputs": [],
   "source": [
    "messages = [{\n",
    "                    \"role\": \"user\",\n",
    "                    \"content\": [\n",
    "                        text_prompt,\n",
    "                        {\n",
    "                            \"type\": \"image_url\",\n",
    "                            \"image_url\": {\n",
    "                                \"url\": f\"data:image/jpeg;base64,{image_base64}\",\n",
    "                            },\n",
    "                        },\n",
    "                    ]\n",
    "                }]"
   ]
  },
  {
   "cell_type": "code",
   "execution_count": 44,
   "metadata": {},
   "outputs": [],
   "source": [
    "completion = client.chat.completions.create(\n",
    "    model=\"glm-4v-9b\",\n",
    "    messages=messages,\n",
    "    max_tokens=6144,\n",
    "    temperature=0.7,\n",
    ")"
   ]
  },
  {
   "cell_type": "code",
   "execution_count": 45,
   "metadata": {},
   "outputs": [
    {
     "name": "stdout",
     "output_type": "stream",
     "text": [
      "```markdown\n",
      "# 人工智能(LLM)工作范式\n",
      "\n",
      "## Up! Up!!\n",
      "\n",
      "1. 在哪几种操作系统上\n",
      "2. 驱动的要求(如GPU)\n",
      "3. Python所需要的版本和库\n",
      "4. 从HuggingFace上如何取得模型和数据\n",
      "5. 如何检验是否正常运行(结果，效率等)\n",
      "6. 自己编写脚本验证模型的调用(建议)\n",
      "7. 对于不明确的文档要重新编写、验证和交叉测试\n",
      "\n",
      "## Structure Analysis\n",
      "\n",
      "1. 去看原始文档甚至论文\n",
      "2. 看相应的文件结构和数据内容\n",
      "3. ...\n",
      "\n",
      "## Hyper Parameters Analysis\n",
      "\n",
      "1. 通用参数\n",
      "2. 模型相关的\n",
      "3. 原有的评估参数和方法\n",
      "\n",
      "## Prompt Engineering\n",
      "\n",
      "1. 实验\n",
      "2. 比较\n",
      "```\n"
     ]
    }
   ],
   "source": [
    "print(completion.choices[0].message.content)"
   ]
  }
 ],
 "metadata": {
  "kernelspec": {
   "display_name": ".venv",
   "language": "python",
   "name": "python3"
  },
  "language_info": {
   "codemirror_mode": {
    "name": "ipython",
    "version": 3
   },
   "file_extension": ".py",
   "mimetype": "text/x-python",
   "name": "python",
   "nbconvert_exporter": "python",
   "pygments_lexer": "ipython3",
   "version": "3.11.11"
  }
 },
 "nbformat": 4,
 "nbformat_minor": 2
}
