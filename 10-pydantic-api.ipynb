{
 "cells": [
  {
   "cell_type": "code",
   "execution_count": 1,
   "metadata": {},
   "outputs": [
    {
     "data": {
      "text/plain": [
       "<logfire._internal.main.Logfire at 0x7fb964480250>"
      ]
     },
     "execution_count": 1,
     "metadata": {},
     "output_type": "execute_result"
    },
    {
     "name": "stderr",
     "output_type": "stream",
     "text": [
      "\u001b[1mLogfire\u001b[0m project URL: \u001b]8;id=727904;https://logfire.pydantic.dev/qiuzhanghua/aiplayground\u001b\\\u001b[4;36mhttps://logfire.pydantic.dev/qiuzhanghua/aiplayground\u001b[0m\u001b]8;;\u001b\\\n"
     ]
    }
   ],
   "source": [
    "# Never use this in production!!!\n",
    "# import logfire\n",
    "# logfire.configure()"
   ]
  },
  {
   "cell_type": "code",
   "execution_count": 2,
   "metadata": {},
   "outputs": [],
   "source": [
    "from pydantic_ai import Agent\n",
    "from pydantic_ai.models.ollama import OllamaModel"
   ]
  },
  {
   "cell_type": "code",
   "execution_count": 3,
   "metadata": {},
   "outputs": [],
   "source": [
    "model = OllamaModel(\"qwen2.5\")\n",
    "agent = Agent(model=model, system_prompt=\"你是AI助手,尽量简要回答问题\")"
   ]
  },
  {
   "cell_type": "code",
   "execution_count": 5,
   "metadata": {},
   "outputs": [
    {
     "name": "stdout",
     "output_type": "stream",
     "text": [
      "07:10:26.346 agent run prompt=Where does \"hello world\" come from?\n",
      "07:10:26.347   preparing model and tools run_step=1\n",
      "07:10:26.347   model request\n",
      "07:10:27.119   handle model response\n",
      "\"Hello World\"程序源自1974年Kernighan和 Ritchie的《The C Programming Language》一书。它被用作第一个编程实践示例。\n"
     ]
    }
   ],
   "source": [
    "# Run the agent synchronously, conducting a conversation with the LLM.\n",
    "# Here the exchange should be very short: PydanticAI will send the system prompt and the user query to the LLM,\n",
    "# the model will return a text response. See below for a more complex run.\n",
    "result = await agent.run('Where does \"hello world\" come from?')\n",
    "print(result.data)"
   ]
  }
 ],
 "metadata": {
  "kernelspec": {
   "display_name": ".venv",
   "language": "python",
   "name": "python3"
  },
  "language_info": {
   "codemirror_mode": {
    "name": "ipython",
    "version": 3
   },
   "file_extension": ".py",
   "mimetype": "text/x-python",
   "name": "python",
   "nbconvert_exporter": "python",
   "pygments_lexer": "ipython3",
   "version": "3.11.11"
  }
 },
 "nbformat": 4,
 "nbformat_minor": 2
}
