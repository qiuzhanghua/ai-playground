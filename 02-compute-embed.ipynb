{
 "cells": [
  {
   "cell_type": "code",
   "execution_count": 1,
   "id": "ada2c919",
   "metadata": {
    "ExecuteTime": {
     "end_time": "2024-12-12T12:40:09.601100Z",
     "start_time": "2024-12-12T12:40:08.916271Z"
    }
   },
   "outputs": [],
   "source": [
    "import torch\n",
    "import tqdm\n",
    "\n",
    "device = (\n",
    "    \"cuda\"\n",
    "    if torch.cuda.is_available()\n",
    "    else \"mps\"\n",
    "    if torch.backends.mps.is_available()\n",
    "    else \"cpu\"\n",
    ")"
   ]
  },
  {
   "cell_type": "code",
   "execution_count": 2,
   "id": "initial_id",
   "metadata": {
    "ExecuteTime": {
     "end_time": "2024-12-12T12:40:15.382718Z",
     "start_time": "2024-12-12T12:40:14.391898Z"
    },
    "collapsed": true
   },
   "outputs": [],
   "source": [
    "from sentence_transformers import SentenceTransformer"
   ]
  },
  {
   "cell_type": "code",
   "execution_count": 3,
   "id": "6e15582e95f83c3c",
   "metadata": {
    "ExecuteTime": {
     "end_time": "2024-12-12T12:40:29.476886Z",
     "start_time": "2024-12-12T12:40:17.389222Z"
    }
   },
   "outputs": [],
   "source": [
    "# 1. Load a pretrained Sentence Transformer model\n",
    "# baai/bge-large-zh\n",
    "# baai/bge-small-zh\n",
    "# intfloat/multilingual-e5-large\n",
    "model = SentenceTransformer(\n",
    "    \"intfloat/multilingual-e5-large\",\n",
    "    device=device,\n",
    "    prompts={\n",
    "        \"classification\": \"Classify the following text: \",\n",
    "        \"retrieval\": \"Retrieve semantically similar text: \",\n",
    "        \"clustering\": \"Identify the topic or theme based on the text: \",\n",
    "    },\n",
    ")\n",
    "model.default_prompt_name = \"retrieval\""
   ]
  },
  {
   "cell_type": "code",
   "execution_count": 4,
   "id": "4e3bc40e83b398bf",
   "metadata": {
    "ExecuteTime": {
     "end_time": "2024-12-12T12:40:32.633169Z",
     "start_time": "2024-12-12T12:40:32.630847Z"
    }
   },
   "outputs": [],
   "source": [
    "# The sentences to encode\n",
    "sentences = [\n",
    "    \"天气很好\",\n",
    "    \"阳光充沛\",\n",
    "    \"今天是晴天\",\n",
    "    \"他去体育馆\",\n",
    "]"
   ]
  },
  {
   "cell_type": "code",
   "execution_count": null,
   "id": "af982bfb",
   "metadata": {
    "ExecuteTime": {
     "end_time": "2024-12-12T12:40:38.028452Z",
     "start_time": "2024-12-12T12:40:35.891192Z"
    }
   },
   "outputs": [],
   "source": [
    "# 2. Calculate embeddings by calling model.encode()\n",
    "embeddings = model.encode(sentences)\n",
    "print(embeddings.shape)"
   ]
  },
  {
   "cell_type": "code",
   "execution_count": null,
   "id": "0ede5b06",
   "metadata": {
    "ExecuteTime": {
     "end_time": "2024-12-12T12:40:45.607403Z",
     "start_time": "2024-12-12T12:40:45.602989Z"
    }
   },
   "outputs": [],
   "source": [
    "# 3. Calculate the embedding similarities\n",
    "similarities = model.similarity(embeddings, embeddings)\n",
    "print(similarities)"
   ]
  },
  {
   "cell_type": "code",
   "execution_count": null,
   "id": "51fc3466be5b2e1a",
   "metadata": {
    "ExecuteTime": {
     "end_time": "2024-12-12T12:41:28.569369Z",
     "start_time": "2024-12-12T12:41:28.565565Z"
    }
   },
   "outputs": [],
   "source": [
    "model.max_seq_length"
   ]
  }
 ],
 "metadata": {
  "kernelspec": {
   "display_name": ".venv",
   "language": "python",
   "name": "python3"
  },
  "language_info": {
   "codemirror_mode": {
    "name": "ipython",
    "version": 3
   },
   "file_extension": ".py",
   "mimetype": "text/x-python",
   "name": "python",
   "nbconvert_exporter": "python",
   "pygments_lexer": "ipython3",
   "version": "3.11.11"
  }
 },
 "nbformat": 4,
 "nbformat_minor": 5
}
