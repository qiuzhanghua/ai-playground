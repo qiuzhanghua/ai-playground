{
 "cells": [
  {
   "cell_type": "code",
   "execution_count": 4,
   "metadata": {},
   "outputs": [
    {
     "name": "stdout",
     "output_type": "stream",
     "text": [
      "Models:\n",
      "deepseek-chat\n",
      "deepseek-coder\n"
     ]
    }
   ],
   "source": [
    "from openai import OpenAI\n",
    "\n",
    "import os\n",
    "\n",
    "api_key = os.getenv(\"DEEPSEEK_TOKEN\")\n",
    "client = OpenAI(api_key=api_key, base_url=\"https://api.deepseek.com\")\n",
    "\n",
    "print(\"Models:\")\n",
    "for model in client.models.list():\n",
    "    print(model.id)"
   ]
  },
  {
   "cell_type": "code",
   "execution_count": 6,
   "metadata": {},
   "outputs": [
    {
     "name": "stdout",
     "output_type": "stream",
     "text": [
      "{\"is_available\":true,\"balance_infos\":[{\"currency\":\"CNY\",\"total_balance\":\"9.99\",\"granted_balance\":\"9.99\",\"topped_up_balance\":\"0.00\"}]}\n"
     ]
    }
   ],
   "source": [
    "import requests\n",
    "\n",
    "url = \"https://api.deepseek.com/user/balance\"\n",
    "\n",
    "payload = {}\n",
    "headers = {\"Accept\": \"application/json\", \"Authorization\": f\"Bearer {api_key}\"}\n",
    "\n",
    "response = requests.request(\"GET\", url, headers=headers, data=payload)\n",
    "\n",
    "print(response.text)"
   ]
  },
  {
   "cell_type": "code",
   "execution_count": 5,
   "metadata": {},
   "outputs": [
    {
     "name": "stdout",
     "output_type": "stream",
     "text": [
      "Hello! How can I assist you today? 😊\n"
     ]
    }
   ],
   "source": [
    "response = client.chat.completions.create(\n",
    "    model=\"deepseek-chat\",\n",
    "    messages=[\n",
    "        {\"role\": \"system\", \"content\": \"You are a helpful assistant\"},\n",
    "        {\"role\": \"user\", \"content\": \"Hello\"},\n",
    "    ],\n",
    "    stream=False,\n",
    ")\n",
    "\n",
    "print(response.choices[0].message.content)"
   ]
  },
  {
   "cell_type": "code",
   "execution_count": 7,
   "metadata": {},
   "outputs": [
    {
     "name": "stdout",
     "output_type": "stream",
     "text": [
      "Messages Round 1: [{'role': 'user', 'content': \"What's the highest mountain in the world?\"}, ChatCompletionMessage(content='The highest mountain in the world is **Mount Everest**, which is located in the **Mahalangur Himal** sub-range of the **Himalayas** on the border between **Nepal** and **Tibet (China)**. Its peak reaches an elevation of **8,848.86 meters (29,031.7 feet)** above sea level, as measured by modern surveys. Mount Everest is renowned for its extreme altitude and is a popular destination for climbers, though it poses significant challenges due to its harsh conditions.', refusal=None, role='assistant', audio=None, function_call=None, tool_calls=None)]\n",
      "Messages Round 2: [{'role': 'user', 'content': \"What's the highest mountain in the world?\"}, ChatCompletionMessage(content='The highest mountain in the world is **Mount Everest**, which is located in the **Mahalangur Himal** sub-range of the **Himalayas** on the border between **Nepal** and **Tibet (China)**. Its peak reaches an elevation of **8,848.86 meters (29,031.7 feet)** above sea level, as measured by modern surveys. Mount Everest is renowned for its extreme altitude and is a popular destination for climbers, though it poses significant challenges due to its harsh conditions.', refusal=None, role='assistant', audio=None, function_call=None, tool_calls=None), {'role': 'user', 'content': 'What is the second?'}, ChatCompletionMessage(content='The second-highest mountain in the world is **K2**, also known as **Mount Godwin-Austen** or **Chhogori**. It is located in the **Karakoram Range** on the border between **Pakistan** and **China**. K2 stands at **8,611 meters (28,251 feet)** above sea level. \\n\\nK2 is often considered more challenging to climb than Mount Everest due to its steep slopes, unpredictable weather, and technical difficulties. It has earned the nickname \"**Savage Mountain**\" because of its high fatality rate among climbers.', refusal=None, role='assistant', audio=None, function_call=None, tool_calls=None)]\n"
     ]
    }
   ],
   "source": [
    "# Round 1\n",
    "messages = [{\"role\": \"user\", \"content\": \"What's the highest mountain in the world?\"}]\n",
    "response = client.chat.completions.create(model=\"deepseek-chat\", messages=messages)\n",
    "\n",
    "messages.append(response.choices[0].message)\n",
    "print(f\"Messages Round 1: {messages}\")\n",
    "\n",
    "# Round 2\n",
    "messages.append({\"role\": \"user\", \"content\": \"What is the second?\"})\n",
    "response = client.chat.completions.create(model=\"deepseek-chat\", messages=messages)\n",
    "\n",
    "messages.append(response.choices[0].message)\n",
    "print(f\"Messages Round 2: {messages}\")"
   ]
  },
  {
   "cell_type": "code",
   "execution_count": null,
   "metadata": {},
   "outputs": [],
   "source": []
  }
 ],
 "metadata": {
  "kernelspec": {
   "display_name": ".venv",
   "language": "python",
   "name": "python3"
  },
  "language_info": {
   "codemirror_mode": {
    "name": "ipython",
    "version": 3
   },
   "file_extension": ".py",
   "mimetype": "text/x-python",
   "name": "python",
   "nbconvert_exporter": "python",
   "pygments_lexer": "ipython3",
   "version": "3.11.11"
  }
 },
 "nbformat": 4,
 "nbformat_minor": 2
}
