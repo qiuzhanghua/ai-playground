{
 "cells": [
  {
   "cell_type": "code",
   "execution_count": 10,
   "id": "ada2c919",
   "metadata": {
    "ExecuteTime": {
     "end_time": "2024-12-13T00:31:27.360912Z",
     "start_time": "2024-12-13T00:31:24.091743Z"
    }
   },
   "outputs": [],
   "source": [
    "import torch\n",
    "\n",
    "device = \"cuda\" if torch.cuda.is_available() else \"mps\" if torch.backends.mps.is_available() else \"cpu\""
   ]
  },
  {
   "cell_type": "code",
   "execution_count": 11,
   "id": "initial_id",
   "metadata": {
    "ExecuteTime": {
     "end_time": "2024-12-13T00:31:28.615930Z",
     "start_time": "2024-12-13T00:31:28.399075Z"
    },
    "collapsed": true
   },
   "outputs": [],
   "source": [
    "from sentence_transformers import SentenceTransformer"
   ]
  },
  {
   "cell_type": "code",
   "execution_count": 12,
   "id": "6e15582e95f83c3c",
   "metadata": {
    "ExecuteTime": {
     "end_time": "2024-12-12T11:45:15.873971Z",
     "start_time": "2024-12-12T11:45:15.865416Z"
    }
   },
   "outputs": [],
   "source": [
    "# 1. Load a pretrained Sentence Transformer model\n",
    "model = SentenceTransformer(\"all-MiniLM-L6-v2\", device=device)\n",
    "# model = SentenceTransformer(\"all-mpnet-base-v2\", device=device)"
   ]
  },
  {
   "cell_type": "code",
   "execution_count": 13,
   "id": "4e3bc40e83b398bf",
   "metadata": {},
   "outputs": [],
   "source": [
    "# The sentences to encode\n",
    "sentences = [\n",
    "    \"天气很好\",\n",
    "    \"阳光充沛\",\n",
    "    \"今天是晴天\",\n",
    "    \"他开车去体育馆\",\n",
    "]"
   ]
  },
  {
   "cell_type": "code",
   "execution_count": null,
   "id": "af982bfb",
   "metadata": {},
   "outputs": [],
   "source": [
    "# 2. Calculate embeddings by calling model.encode()\n",
    "embeddings = model.encode(sentences)\n",
    "print(embeddings.shape)"
   ]
  },
  {
   "cell_type": "code",
   "execution_count": null,
   "id": "0ede5b06",
   "metadata": {},
   "outputs": [],
   "source": [
    "# 3. Calculate the embedding similarities\n",
    "similarities = model.similarity(embeddings, embeddings)\n",
    "print(similarities)"
   ]
  }
 ],
 "metadata": {
  "kernelspec": {
   "display_name": "all",
   "language": "python",
   "name": "python3"
  },
  "language_info": {
   "codemirror_mode": {
    "name": "ipython",
    "version": 3
   },
   "file_extension": ".py",
   "mimetype": "text/x-python",
   "name": "python",
   "nbconvert_exporter": "python",
   "pygments_lexer": "ipython3",
   "version": "3.11.10"
  }
 },
 "nbformat": 4,
 "nbformat_minor": 5
}
